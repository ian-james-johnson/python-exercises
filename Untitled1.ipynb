{
 "cells": [
  {
   "cell_type": "code",
   "execution_count": 16,
   "id": "bf71b6ca",
   "metadata": {},
   "outputs": [
    {
     "name": "stdout",
     "output_type": "stream",
     "text": [
      "Enter score\n",
      "75\n",
      "C\n"
     ]
    }
   ],
   "source": [
    "while True:\n",
    "    print(\"Input 'yes' if you wish to continue or 'no' if you are finished\")\n",
    "    prompt_yn = input()\n",
    "    if str.lower(prompt_yn) == 'no':\n",
    "        break\n",
    "    else:\n",
    "\n",
    "print(\"Enter score\")\n",
    "score = int(input())\n",
    "if score <= 100 and score >= 88:\n",
    "    grade = 'A'\n",
    "elif score <= 87 and score >= 80:\n",
    "    grade = 'B'\n",
    "elif score <= 79 and score >= 67:\n",
    "    grade = 'C'\n",
    "elif score <= 66 and score >= 60:\n",
    "    grade = 'D'\n",
    "elif score <= 59 and score >= 0:\n",
    "    grade = 'F'\n",
    "else:\n",
    "    grade = 'Score is out of expected range'\n",
    "print(grade)"
   ]
  },
  {
   "cell_type": "code",
   "execution_count": 21,
   "id": "49573485",
   "metadata": {},
   "outputs": [
    {
     "name": "stdout",
     "output_type": "stream",
     "text": [
      "Input 'yes' if you wish to continue or 'no' if you are finished\n",
      "yes\n",
      "continue\n",
      "Input 'yes' if you wish to continue or 'no' if you are finished\n",
      "yes\n",
      "continue\n",
      "Input 'yes' if you wish to continue or 'no' if you are finished\n",
      "no\n"
     ]
    }
   ],
   "source": [
    "while True:\n",
    "    print(\"Input 'yes' if you wish to continue or 'no' if you are finished\")\n",
    "    prompt_yn = input()\n",
    "    if str.lower(prompt_yn) == 'no':\n",
    "        break\n",
    "    else:\n",
    "        print('continue')"
   ]
  },
  {
   "cell_type": "code",
   "execution_count": 19,
   "id": "d8298f2b",
   "metadata": {},
   "outputs": [
    {
     "data": {
      "text/plain": [
       "'yes'"
      ]
     },
     "execution_count": 19,
     "metadata": {},
     "output_type": "execute_result"
    }
   ],
   "source": [
    "str.lower('YES')"
   ]
  },
  {
   "cell_type": "code",
   "execution_count": 28,
   "id": "35ebfbe9",
   "metadata": {},
   "outputs": [
    {
     "name": "stdout",
     "output_type": "stream",
     "text": [
      "Input 'yes' if you wish to continue or 'no' if you are finished\n",
      "yes\n",
      "Enter score\n",
      "67\n",
      "C\n",
      "Input 'yes' if you wish to continue or 'no' if you are finished\n",
      "dfadfsa\n",
      "Input 'yes' if you wish to continue or 'no' if you are finished\n",
      "vsf\n",
      "Input 'yes' if you wish to continue or 'no' if you are finished\n",
      "yes\n",
      "Enter score\n",
      "90\n",
      "A\n",
      "Input 'yes' if you wish to continue or 'no' if you are finished\n",
      "no\n"
     ]
    }
   ],
   "source": [
    "while True:\n",
    "    print(\"Input 'yes' if you wish to continue or 'no' if you are finished\")\n",
    "    prompt_yn = input()\n",
    "    if str.lower(prompt_yn) == 'no':\n",
    "        break\n",
    "    elif str.lower(prompt_yn) != 'yes':\n",
    "        continue\n",
    "    else:\n",
    "        print(\"Enter score\")\n",
    "        score = int(input())\n",
    "        if score <= 100 and score >= 88:\n",
    "            grade = 'A'\n",
    "        elif score <= 87 and score >= 80:\n",
    "            grade = 'B'\n",
    "        elif score <= 79 and score >= 67:\n",
    "            grade = 'C'\n",
    "        elif score <= 66 and score >= 60:\n",
    "            grade = 'D'\n",
    "        elif score <= 59 and score >= 0:\n",
    "            grade = 'F'\n",
    "        else:\n",
    "            grade = 'Score is out of expected range'\n",
    "    print(grade)\n",
    "    continue"
   ]
  },
  {
   "cell_type": "code",
   "execution_count": null,
   "id": "131a19b1",
   "metadata": {},
   "outputs": [],
   "source": []
  },
  {
   "cell_type": "code",
   "execution_count": null,
   "id": "57901abf",
   "metadata": {},
   "outputs": [],
   "source": []
  }
 ],
 "metadata": {
  "kernelspec": {
   "display_name": "Python 3",
   "language": "python",
   "name": "python3"
  },
  "language_info": {
   "codemirror_mode": {
    "name": "ipython",
    "version": 3
   },
   "file_extension": ".py",
   "mimetype": "text/x-python",
   "name": "python",
   "nbconvert_exporter": "python",
   "pygments_lexer": "ipython3",
   "version": "3.8.8"
  }
 },
 "nbformat": 4,
 "nbformat_minor": 5
}
